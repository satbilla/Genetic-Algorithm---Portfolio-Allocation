{
 "cells": [
  {
   "cell_type": "code",
   "execution_count": 1,
   "metadata": {},
   "outputs": [],
   "source": [
    "import os\n",
    "import pandas as pd\n",
    "import numpy as np"
   ]
  },
  {
   "cell_type": "code",
   "execution_count": 12,
   "metadata": {},
   "outputs": [],
   "source": [
    "# change directory if needed \n",
    "# os.chdir('')"
   ]
  },
  {
   "cell_type": "markdown",
   "metadata": {},
   "source": [
    "### Calculate stock returns from closing value of each stock for every month"
   ]
  },
  {
   "cell_type": "markdown",
   "metadata": {},
   "source": [
    "##### Define function to obtain .csv filenames"
   ]
  },
  {
   "cell_type": "code",
   "execution_count": 2,
   "metadata": {},
   "outputs": [],
   "source": [
    "def obtain_filenames(path):\n",
    "    name = []\n",
    "#     This loop will search all the files in given path and selects file names which end with .csv\n",
    "    for file in os.listdir(path):\n",
    "        if file.endswith('.csv'):\n",
    "            name.append(file.split(sep='.')[0])\n",
    "#     name contains list of file names\n",
    "    return name"
   ]
  },
  {
   "cell_type": "markdown",
   "metadata": {},
   "source": [
    "##### Define function to calculate returns for each stock"
   ]
  },
  {
   "cell_type": "code",
   "execution_count": 3,
   "metadata": {},
   "outputs": [],
   "source": [
    "def calculate_returns(scrip,l_o_m):\n",
    "    stck_name_returns = {}\n",
    "    for stck in scrip:\n",
    "#         Read each stock data\n",
    "        stck_data = pd.read_csv(stck + '.csv',header=0,sep=',')\n",
    "        returns = []\n",
    "#         Calculate returns for each stock according to list_of_months and append to stck_name_returns dictionary\n",
    "        for i in l_o_m:\n",
    "            present_close = stck_data.loc[0,'Close']\n",
    "            last_close = stck_data.loc[0 + i,'Close']\n",
    "            returns.append((present_close - last_close)/last_close)\n",
    "        stck_name_returns[stck] = returns\n",
    "    return stck_name_returns"
   ]
  },
  {
   "cell_type": "code",
   "execution_count": 4,
   "metadata": {},
   "outputs": [
    {
     "data": {
      "text/plain": [
       "['hdfc', 'itc', 'l&t', 'm&m', 'sunpha']"
      ]
     },
     "execution_count": 4,
     "metadata": {},
     "output_type": "execute_result"
    }
   ],
   "source": [
    "scrip_names = obtain_filenames(os.getcwd())\n",
    "scrip_names"
   ]
  },
  {
   "cell_type": "code",
   "execution_count": 5,
   "metadata": {},
   "outputs": [],
   "source": [
    "list_of_months = [3,6,12,18,24,36]"
   ]
  },
  {
   "cell_type": "code",
   "execution_count": 6,
   "metadata": {},
   "outputs": [
    {
     "data": {
      "text/html": [
       "<div>\n",
       "<style scoped>\n",
       "    .dataframe tbody tr th:only-of-type {\n",
       "        vertical-align: middle;\n",
       "    }\n",
       "\n",
       "    .dataframe tbody tr th {\n",
       "        vertical-align: top;\n",
       "    }\n",
       "\n",
       "    .dataframe thead th {\n",
       "        text-align: right;\n",
       "    }\n",
       "</style>\n",
       "<table border=\"1\" class=\"dataframe\">\n",
       "  <thead>\n",
       "    <tr style=\"text-align: right;\">\n",
       "      <th></th>\n",
       "      <th>hdfc</th>\n",
       "      <th>itc</th>\n",
       "      <th>l&amp;t</th>\n",
       "      <th>m&amp;m</th>\n",
       "      <th>sunpha</th>\n",
       "    </tr>\n",
       "  </thead>\n",
       "  <tbody>\n",
       "    <tr>\n",
       "      <th>3month</th>\n",
       "      <td>0.114515</td>\n",
       "      <td>0.039664</td>\n",
       "      <td>-0.030947</td>\n",
       "      <td>0.211564</td>\n",
       "      <td>0.131510</td>\n",
       "    </tr>\n",
       "    <tr>\n",
       "      <th>6month</th>\n",
       "      <td>0.125163</td>\n",
       "      <td>0.011212</td>\n",
       "      <td>0.011417</td>\n",
       "      <td>0.194062</td>\n",
       "      <td>-0.017957</td>\n",
       "    </tr>\n",
       "    <tr>\n",
       "      <th>12month</th>\n",
       "      <td>0.275866</td>\n",
       "      <td>-0.178478</td>\n",
       "      <td>0.129783</td>\n",
       "      <td>0.330899</td>\n",
       "      <td>0.010911</td>\n",
       "    </tr>\n",
       "    <tr>\n",
       "      <th>18month</th>\n",
       "      <td>0.750581</td>\n",
       "      <td>0.104171</td>\n",
       "      <td>0.413121</td>\n",
       "      <td>0.514277</td>\n",
       "      <td>-0.109885</td>\n",
       "    </tr>\n",
       "    <tr>\n",
       "      <th>24month</th>\n",
       "      <td>0.792712</td>\n",
       "      <td>0.084237</td>\n",
       "      <td>0.274461</td>\n",
       "      <td>0.255179</td>\n",
       "      <td>-0.265911</td>\n",
       "    </tr>\n",
       "    <tr>\n",
       "      <th>36month</th>\n",
       "      <td>0.974847</td>\n",
       "      <td>0.266844</td>\n",
       "      <td>0.069614</td>\n",
       "      <td>0.399938</td>\n",
       "      <td>-0.358785</td>\n",
       "    </tr>\n",
       "  </tbody>\n",
       "</table>\n",
       "</div>"
      ],
      "text/plain": [
       "             hdfc       itc       l&t       m&m    sunpha\n",
       "3month   0.114515  0.039664 -0.030947  0.211564  0.131510\n",
       "6month   0.125163  0.011212  0.011417  0.194062 -0.017957\n",
       "12month  0.275866 -0.178478  0.129783  0.330899  0.010911\n",
       "18month  0.750581  0.104171  0.413121  0.514277 -0.109885\n",
       "24month  0.792712  0.084237  0.274461  0.255179 -0.265911\n",
       "36month  0.974847  0.266844  0.069614  0.399938 -0.358785"
      ]
     },
     "execution_count": 6,
     "metadata": {},
     "output_type": "execute_result"
    }
   ],
   "source": [
    "stck_returns = pd.DataFrame(calculate_returns(scrip_names,list_of_months),\n",
    "                            index=['3month','6month','12month','18month','24month','36month'])\n",
    "stck_returns"
   ]
  },
  {
   "cell_type": "markdown",
   "metadata": {},
   "source": [
    "### Genetic Algorithm for portfolio allocation"
   ]
  },
  {
   "cell_type": "code",
   "execution_count": 7,
   "metadata": {},
   "outputs": [],
   "source": [
    "# Gene for this problem would be the percentage of amount to be allocated for a particular stock\n",
    "# Chromosome would be the percentage of amount to be allocated for each stock\n",
    "# The constraint is total amount to be invested is Rs.1,00,000/-\n",
    "# Weighted returns for each stock is calculated according to weights list, with more weight given to most recent returns"
   ]
  },
  {
   "cell_type": "markdown",
   "metadata": {},
   "source": [
    "##### Declare global variables"
   ]
  },
  {
   "cell_type": "code",
   "execution_count": 8,
   "metadata": {},
   "outputs": [],
   "source": [
    "max_allocation = 100000 # maximum budget that can be allocated\n",
    "weights = [0.30,0.20,0.15,0.15,0.10,0.10] # weights for n-month returns\n",
    "mutation_probability = 0.5 # initial mutation probability\n",
    "number_of_iterations = 500 # total number of GA iterations\n",
    "number_of_chrom_in_population = 500 # size of population"
   ]
  },
  {
   "cell_type": "markdown",
   "metadata": {},
   "source": [
    "##### Generate initial population\n",
    "In this context, a gene is weightage of a particular scrip in the portfolio, and chromosome is a sequence of the weightages of different scrips in the porfolio. Initial population is a collection of different portfolios randomly generated."
   ]
  },
  {
   "cell_type": "code",
   "execution_count": 9,
   "metadata": {},
   "outputs": [],
   "source": [
    "def gen_init_population(pop,num_stocks):\n",
    "    init_population = pd.DataFrame(columns=scrip_names)\n",
    "    for i in range(pop):\n",
    "#         For each scrip, generate a random number between 0 and 1. Normalise this sequence as sum of weightage for scrips\n",
    "#         should be equal to one. This sequence is one chromosome. Repeat it 'pop' number of times to generate population\n",
    "        random = np.random.random(num_stocks)\n",
    "        chromosome = random/(sum(random))\n",
    "        init_population.loc[i] = chromosome\n",
    "    return init_population"
   ]
  },
  {
   "cell_type": "code",
   "execution_count": 11,
   "metadata": {},
   "outputs": [],
   "source": [
    "# gen_init_population(number_of_chrom_in_population,len(scrip_names)).head()\n",
    "# gen_init_population(number_of_chrom_in_population,len(scrip_names)).shape"
   ]
  },
  {
   "cell_type": "markdown",
   "metadata": {},
   "source": [
    "##### Define fitness function\n",
    "The fitness function calculates weighted return for the portfolio "
   ]
  },
  {
   "cell_type": "code",
   "execution_count": 12,
   "metadata": {},
   "outputs": [],
   "source": [
    "def fitness_func(max_alloc,population,stock_ret,wts):\n",
    "#     For each scrip, calculate returns weighted by 'n-month' returns\n",
    "    weighted_stck_returns = stock_ret.apply(lambda x:(x*wts).sum())\n",
    "#     Portfolio return in % considering scrip allocation weightage. For instance, for stock 1 in a particular portfolio,\n",
    "#     if the weighted return was 5% and this stock forms 20% of the portfolio, then % return on this stock is \n",
    "#     (20000*0.05)/100000\n",
    "    pfolio_return = population.apply(lambda x: sum((x*max_alloc)*weighted_stck_returns)/max_alloc, axis = 1)\n",
    "    return pfolio_return"
   ]
  },
  {
   "cell_type": "markdown",
   "metadata": {},
   "source": [
    "##### Define selection function"
   ]
  },
  {
   "cell_type": "code",
   "execution_count": 13,
   "metadata": {},
   "outputs": [],
   "source": [
    "def selection_func(fit_func,max_alloc,population,stock_ret,wts):\n",
    "#     For each portfolio calculate portfolio returns using fitness_func\n",
    "    portfolio_return = fit_func(max_alloc,population,stock_ret,wts)\n",
    "#     Select top 20% portfolio returns as elite population\n",
    "    selected_portfolio = portfolio_return.sort_values(ascending=False)[0:int(0.2*population.shape[0])]\n",
    "    elite = population.iloc[selected_portfolio.index,:]\n",
    "    return elite"
   ]
  },
  {
   "cell_type": "code",
   "execution_count": 14,
   "metadata": {},
   "outputs": [
    {
     "data": {
      "text/html": [
       "<div>\n",
       "<style scoped>\n",
       "    .dataframe tbody tr th:only-of-type {\n",
       "        vertical-align: middle;\n",
       "    }\n",
       "\n",
       "    .dataframe tbody tr th {\n",
       "        vertical-align: top;\n",
       "    }\n",
       "\n",
       "    .dataframe thead th {\n",
       "        text-align: right;\n",
       "    }\n",
       "</style>\n",
       "<table border=\"1\" class=\"dataframe\">\n",
       "  <thead>\n",
       "    <tr style=\"text-align: right;\">\n",
       "      <th></th>\n",
       "      <th>hdfc</th>\n",
       "      <th>itc</th>\n",
       "      <th>l&amp;t</th>\n",
       "      <th>m&amp;m</th>\n",
       "      <th>sunpha</th>\n",
       "    </tr>\n",
       "  </thead>\n",
       "  <tbody>\n",
       "    <tr>\n",
       "      <th>413</th>\n",
       "      <td>0.412787</td>\n",
       "      <td>0.106053</td>\n",
       "      <td>0.012495</td>\n",
       "      <td>0.465113</td>\n",
       "      <td>0.003552</td>\n",
       "    </tr>\n",
       "    <tr>\n",
       "      <th>271</th>\n",
       "      <td>0.621765</td>\n",
       "      <td>0.046832</td>\n",
       "      <td>0.098409</td>\n",
       "      <td>0.145956</td>\n",
       "      <td>0.087037</td>\n",
       "    </tr>\n",
       "    <tr>\n",
       "      <th>15</th>\n",
       "      <td>0.360083</td>\n",
       "      <td>0.031645</td>\n",
       "      <td>0.194567</td>\n",
       "      <td>0.403442</td>\n",
       "      <td>0.010264</td>\n",
       "    </tr>\n",
       "    <tr>\n",
       "      <th>167</th>\n",
       "      <td>0.510349</td>\n",
       "      <td>0.134152</td>\n",
       "      <td>0.008272</td>\n",
       "      <td>0.252304</td>\n",
       "      <td>0.094923</td>\n",
       "    </tr>\n",
       "    <tr>\n",
       "      <th>1</th>\n",
       "      <td>0.439657</td>\n",
       "      <td>0.089649</td>\n",
       "      <td>0.079929</td>\n",
       "      <td>0.295431</td>\n",
       "      <td>0.095334</td>\n",
       "    </tr>\n",
       "  </tbody>\n",
       "</table>\n",
       "</div>"
      ],
      "text/plain": [
       "         hdfc       itc       l&t       m&m    sunpha\n",
       "413  0.412787  0.106053  0.012495  0.465113  0.003552\n",
       "271  0.621765  0.046832  0.098409  0.145956  0.087037\n",
       "15   0.360083  0.031645  0.194567  0.403442  0.010264\n",
       "167  0.510349  0.134152  0.008272  0.252304  0.094923\n",
       "1    0.439657  0.089649  0.079929  0.295431  0.095334"
      ]
     },
     "execution_count": 14,
     "metadata": {},
     "output_type": "execute_result"
    }
   ],
   "source": [
    "tmp_pop = selection_func(fitness_func,max_allocation,gen_init_population(number_of_chrom_in_population,len(scrip_names)),\n",
    "                         stck_returns,weights)\n",
    "tmp_pop.head()"
   ]
  },
  {
   "cell_type": "markdown",
   "metadata": {},
   "source": [
    "##### Define evolution function\n",
    "Arithmetic crossover and scramble mutation has been used - you are free to use any other crossover methods like\n",
    "one-point crossover, multi-point crossover or uniform crossover, and mutation methods like swap mutation and inversion\n",
    "mutation"
   ]
  },
  {
   "cell_type": "code",
   "execution_count": 15,
   "metadata": {},
   "outputs": [],
   "source": [
    "def evolution_func(elite_pop,mut_prob,scrip,num_of_chrom_in_pop):\n",
    "    new_pop = pd.DataFrame(columns=scrip)\n",
    "    new_pop_iter = 0\n",
    "    while(new_pop_iter <= num_of_chrom_in_pop):\n",
    "#         We would generate a random number and if the number is less than mutation probability, we will go for crossover\n",
    "#         Initially, we will have high value of mutation probability to avoid being getting stuck at local minima and\n",
    "#         explore the search space\n",
    "        if np.random.random() < mut_prob:\n",
    "#             The candidate (or one of the elite portfolios) is chosen randomly for mutation\n",
    "            candidate = np.random.randint(low=0,high=elite_pop.shape[0],size=1)\n",
    "            mutant = elite_pop.iloc[candidate,:].copy()\n",
    "#             Mutation step - shuffle() randomly shuffles the allocation values for each scrip in a portfolio\n",
    "            np.random.shuffle(mutant)\n",
    "#             print(mutant)\n",
    "            new_pop = new_pop.append(mutant,ignore_index=True)\n",
    "#             We prefer to explore much more in the beginning of the search process to ensure diversity and avoid local \n",
    "#             optimum. As we progress towards the end of search process ( or iterations), we need to ensure the\n",
    "#             convergence of the population to a good solution if not the best. Hence we keep on reducing mutation \n",
    "#             probability with each iteraation\n",
    "            mut_prob = mut_prob/(new_pop_iter+1)\n",
    "        else:\n",
    "#             The parents (elite portfolios) for crossover are chosen randomly\n",
    "            parent_indices = np.random.randint(low=0,high=elite_pop.shape[0],size=2)\n",
    "            parents = elite_pop.iloc[parent_indices,:]\n",
    "#             The proportion of characteristic that should be captured in child from each parent is determined by a \n",
    "#             randomly generated number - alpha\n",
    "            alpha = np.random.random()\n",
    "            child1 = alpha*(parents.iloc[0,:]) + (1-alpha)*(parents.iloc[1,:])\n",
    "            child2 = (1-alpha)*(parents.iloc[0,:]) + alpha*(parents.iloc[1,:])\n",
    "#             print(child1)\n",
    "#             print(child2)\n",
    "#             print(dict(child1))\n",
    "#             print(dict(child2))\n",
    "            new_pop = new_pop.append(dict(child1),ignore_index=True)\n",
    "            new_pop = new_pop.append(dict(child2),ignore_index=True)\n",
    "        new_pop_iter+=1\n",
    "#     To create a new population, we include both new population and elite population as there may be a case that we are \n",
    "#     already at a global optimum solution\n",
    "    new_pop = pd.concat([new_pop,elite_pop],ignore_index=True)\n",
    "    return new_pop"
   ]
  },
  {
   "cell_type": "code",
   "execution_count": 16,
   "metadata": {},
   "outputs": [
    {
     "data": {
      "text/html": [
       "<div>\n",
       "<style scoped>\n",
       "    .dataframe tbody tr th:only-of-type {\n",
       "        vertical-align: middle;\n",
       "    }\n",
       "\n",
       "    .dataframe tbody tr th {\n",
       "        vertical-align: top;\n",
       "    }\n",
       "\n",
       "    .dataframe thead th {\n",
       "        text-align: right;\n",
       "    }\n",
       "</style>\n",
       "<table border=\"1\" class=\"dataframe\">\n",
       "  <thead>\n",
       "    <tr style=\"text-align: right;\">\n",
       "      <th></th>\n",
       "      <th>hdfc</th>\n",
       "      <th>itc</th>\n",
       "      <th>l&amp;t</th>\n",
       "      <th>m&amp;m</th>\n",
       "      <th>sunpha</th>\n",
       "    </tr>\n",
       "  </thead>\n",
       "  <tbody>\n",
       "    <tr>\n",
       "      <th>0</th>\n",
       "      <td>0.177123</td>\n",
       "      <td>0.171751</td>\n",
       "      <td>0.037726</td>\n",
       "      <td>0.476570</td>\n",
       "      <td>0.136832</td>\n",
       "    </tr>\n",
       "    <tr>\n",
       "      <th>1</th>\n",
       "      <td>0.598833</td>\n",
       "      <td>0.053275</td>\n",
       "      <td>0.095279</td>\n",
       "      <td>0.163007</td>\n",
       "      <td>0.089605</td>\n",
       "    </tr>\n",
       "    <tr>\n",
       "      <th>2</th>\n",
       "      <td>0.356533</td>\n",
       "      <td>0.100584</td>\n",
       "      <td>0.141733</td>\n",
       "      <td>0.321280</td>\n",
       "      <td>0.079871</td>\n",
       "    </tr>\n",
       "    <tr>\n",
       "      <th>3</th>\n",
       "      <td>0.327598</td>\n",
       "      <td>0.119296</td>\n",
       "      <td>0.142250</td>\n",
       "      <td>0.375477</td>\n",
       "      <td>0.035379</td>\n",
       "    </tr>\n",
       "    <tr>\n",
       "      <th>4</th>\n",
       "      <td>0.354172</td>\n",
       "      <td>0.093064</td>\n",
       "      <td>0.337143</td>\n",
       "      <td>0.157754</td>\n",
       "      <td>0.057868</td>\n",
       "    </tr>\n",
       "  </tbody>\n",
       "</table>\n",
       "</div>"
      ],
      "text/plain": [
       "       hdfc       itc       l&t       m&m    sunpha\n",
       "0  0.177123  0.171751  0.037726  0.476570  0.136832\n",
       "1  0.598833  0.053275  0.095279  0.163007  0.089605\n",
       "2  0.356533  0.100584  0.141733  0.321280  0.079871\n",
       "3  0.327598  0.119296  0.142250  0.375477  0.035379\n",
       "4  0.354172  0.093064  0.337143  0.157754  0.057868"
      ]
     },
     "execution_count": 16,
     "metadata": {},
     "output_type": "execute_result"
    }
   ],
   "source": [
    "evolution_func(tmp_pop,mutation_probability,scrip_names,number_of_chrom_in_population).head()"
   ]
  },
  {
   "cell_type": "markdown",
   "metadata": {},
   "source": [
    "##### Define main function"
   ]
  },
  {
   "cell_type": "code",
   "execution_count": 17,
   "metadata": {},
   "outputs": [],
   "source": [
    "def main_func():\n",
    "    initial_population = gen_init_population(number_of_chrom_in_population,len(scrip_names))\n",
    "#         initial_population.head()\n",
    "    elite_population = selection_func(fitness_func,max_allocation,initial_population,stck_returns,weights)\n",
    "    elite_population.reset_index(inplace=True,drop=True)\n",
    "#         elite_population.head()\n",
    "    new_population = evolution_func(elite_population,mutation_probability,scrip_names,number_of_chrom_in_population)\n",
    "#     We run genetic algorithm for number_of_iterations times\n",
    "    for i in range(number_of_iterations):\n",
    "        new_elite_population = selection_func(fitness_func,max_allocation,new_population,stck_returns,weights)\n",
    "        new_population = evolution_func(new_elite_population,mutation_probability,scrip_names,number_of_chrom_in_population)\n",
    "    return new_population"
   ]
  },
  {
   "cell_type": "markdown",
   "metadata": {},
   "source": [
    "##### Call main function"
   ]
  },
  {
   "cell_type": "code",
   "execution_count": 18,
   "metadata": {},
   "outputs": [],
   "source": [
    "range_of_portfolios = main_func() #Final population"
   ]
  },
  {
   "cell_type": "markdown",
   "metadata": {},
   "source": [
    "##### Select the topmost portfolio"
   ]
  },
  {
   "cell_type": "code",
   "execution_count": 19,
   "metadata": {},
   "outputs": [
    {
     "data": {
      "text/plain": [
       "hdfc      0.446721\n",
       "itc       0.005231\n",
       "l&t       0.148396\n",
       "m&m       0.338281\n",
       "sunpha    0.061371\n",
       "Name: 1246, dtype: float64"
      ]
     },
     "execution_count": 19,
     "metadata": {},
     "output_type": "execute_result"
    }
   ],
   "source": [
    "top_portfolios = selection_func(fitness_func,max_allocation,range_of_portfolios,stck_returns,weights)\n",
    "final_portfolio = top_portfolios.iloc[0]\n",
    "final_portfolio"
   ]
  },
  {
   "cell_type": "markdown",
   "metadata": {},
   "source": [
    "##### Calculate portfolio returns"
   ]
  },
  {
   "cell_type": "code",
   "execution_count": 20,
   "metadata": {},
   "outputs": [
    {
     "data": {
      "text/plain": [
       "hdfc      0.390110\n",
       "itc       0.038104\n",
       "l&t       0.108842\n",
       "m&m       0.294570\n",
       "sunpha   -0.041454\n",
       "dtype: float64"
      ]
     },
     "execution_count": 20,
     "metadata": {},
     "output_type": "execute_result"
    }
   ],
   "source": [
    "weighted_stck_returns = stck_returns.apply(lambda x:(x*weights).sum())\n",
    "weighted_stck_returns"
   ]
  },
  {
   "cell_type": "code",
   "execution_count": 21,
   "metadata": {},
   "outputs": [
    {
     "name": "stdout",
     "output_type": "stream",
     "text": [
      "The portfolio return is: 0.288\n"
     ]
    }
   ],
   "source": [
    "portfolio_return = sum((final_portfolio*max_allocation)*weighted_stck_returns)/max_allocation\n",
    "# In the past three years, Nifty 50 has given a return of 27.4%. Using only one stock from each sector \n",
    "# (all of them are top players by market capitalization, except m&m), we got a portfolio return of 27.1%. \n",
    "# That too excluding any expense ratio that you would have incurred for nifty 50 indexed fund (roughly it is around 0.5%).\n",
    "# If you do some research, you are beating some mutual funds in this category as well!!\n",
    "print('The portfolio return is: {0:.3f}'.format(portfolio_return))"
   ]
  }
 ],
 "metadata": {
  "kernelspec": {
   "display_name": "Python 3",
   "language": "python",
   "name": "python3"
  },
  "language_info": {
   "codemirror_mode": {
    "name": "ipython",
    "version": 3
   },
   "file_extension": ".py",
   "mimetype": "text/x-python",
   "name": "python",
   "nbconvert_exporter": "python",
   "pygments_lexer": "ipython3",
   "version": "3.6.4"
  }
 },
 "nbformat": 4,
 "nbformat_minor": 2
}
